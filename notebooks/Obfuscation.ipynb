{
 "cells": [
  {
   "cell_type": "code",
   "execution_count": 121,
   "metadata": {},
   "outputs": [],
   "source": [
    "def map_int(i, state):\n",
    "    i = ord('0') + ( i + state ) % 9\n",
    "    state += i\n",
    "    return i, state\n",
    "\n",
    "def map_lower(c, state):\n",
    "    x = ord('a') + (c + state ) % 25\n",
    "    state += x\n",
    "    return x, state\n",
    "\n",
    "def map_upper(c, state):\n",
    "    c = ord('A') + (c + state ) % 25\n",
    "    state += c\n",
    "    return c, state"
   ]
  },
  {
   "cell_type": "code",
   "execution_count": 136,
   "metadata": {},
   "outputs": [],
   "source": [
    "def obfuscate(example):\n",
    "    state=hash(example)\n",
    "\n",
    "    example=[ord(i) for i in example]\n",
    "    for i, x in enumerate(example):\n",
    "        if x in range(48, 58):\n",
    "            example[i], state = map_int(x, state)\n",
    "        elif x in range(65, 91):\n",
    "            example[i], state = map_upper(x, state)    \n",
    "        elif x in range(96, 123):\n",
    "            example[i], state = map_lower(x, state)    \n",
    "\n",
    "    example=[chr(i) for i in example]\n",
    "    return ''.join(example)"
   ]
  },
  {
   "cell_type": "code",
   "execution_count": 147,
   "metadata": {},
   "outputs": [
    {
     "name": "stdout",
     "output_type": "stream",
     "text": [
      "583-853-6462\n",
      "8 Rjqliqf Ob. Rbcxrmq, WItqvfn, O8V 8O6\n",
      "42 Eiohaaé Fi. Geikqkm, ORmcsyb, P7W 7P5\n"
     ]
    }
   ],
   "source": [
    "print(obfuscate('613-265-2949')) #regular numeric\n",
    "print(obfuscate('2 Adelade St. Toronto, ONtario, M9J 2K9')) #regular mixed\n",
    "print(obfuscate('44 Adeladé St. Toronto, ONtario, M9J 2K9')) #special cahracters"
   ]
  },
  {
   "cell_type": "code",
   "execution_count": 148,
   "metadata": {},
   "outputs": [
    {
     "ename": "TypeError",
     "evalue": "ord() expected a character, but string of length 2 found",
     "output_type": "error",
     "traceback": [
      "\u001b[0;31m---------------------------------------------------------------------------\u001b[0m",
      "\u001b[0;31mTypeError\u001b[0m                                 Traceback (most recent call last)",
      "\u001b[0;32m<ipython-input-148-efbc3276acb4>\u001b[0m in \u001b[0;36m<module>\u001b[0;34m\u001b[0m\n\u001b[0;32m----> 1\u001b[0;31m \u001b[0mord\u001b[0m\u001b[0;34m(\u001b[0m\u001b[0;34m'AB'\u001b[0m\u001b[0;34m)\u001b[0m\u001b[0;34m\u001b[0m\u001b[0;34m\u001b[0m\u001b[0m\n\u001b[0m",
      "\u001b[0;31mTypeError\u001b[0m: ord() expected a character, but string of length 2 found"
     ]
    }
   ],
   "source": [
    "ord('AB') "
   ]
  },
  {
   "cell_type": "code",
   "execution_count": null,
   "metadata": {},
   "outputs": [],
   "source": []
  }
 ],
 "metadata": {
  "kernelspec": {
   "display_name": "Python 3",
   "language": "python",
   "name": "python3"
  },
  "language_info": {
   "codemirror_mode": {
    "name": "ipython",
    "version": 3
   },
   "file_extension": ".py",
   "mimetype": "text/x-python",
   "name": "python",
   "nbconvert_exporter": "python",
   "pygments_lexer": "ipython3",
   "version": "3.7.4"
  }
 },
 "nbformat": 4,
 "nbformat_minor": 2
}
