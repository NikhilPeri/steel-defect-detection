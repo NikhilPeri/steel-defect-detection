{
 "cells": [
  {
   "cell_type": "code",
   "execution_count": 3,
   "metadata": {},
   "outputs": [],
   "source": [
    "import pandas as pd\n",
    "import os\n",
    "os.chdir('/Users/perinik/github.com/NikhilPeri/steel-defect-detection')\n",
    "\n",
    "from utils.data import clean_training_samples"
   ]
  },
  {
   "cell_type": "code",
   "execution_count": 4,
   "metadata": {},
   "outputs": [],
   "source": [
    "train = clean_training_samples(pd.read_csv('data/raw/train.csv'), 'data/raw/train_images/')"
   ]
  },
  {
   "cell_type": "code",
   "execution_count": 12,
   "metadata": {},
   "outputs": [],
   "source": [
    "DUPLICATES = [\n",
    "    ('6eb8690cd.jpg', 'a67df9196.jpg'),\n",
    "    ('24e125a16.jpg', '4a80680e5.jpg'),\n",
    "    ('a335fc5cc.jpg', 'fb352c185.jpg'),\n",
    "    ('c35fa49e2.jpg', 'e4da37c1e.jpg'),\n",
    "    ('877d319fd.jpg', 'e6042b9a7.jpg'),\n",
    "    ('618f0ff16.jpg', 'ace59105f.jpg'),\n",
    "    ('ae35b6067.jpg', 'fdb5ae9d4.jpg'),\n",
    "    ('3de8f5d88.jpg', 'a5aa4829b.jpg'),\n",
    "    ('3bd0fd84d.jpg', 'b719010ac.jpg'),\n",
    "    ('24fce7ae0.jpg', 'edf12f5f1.jpg'),\n",
    "    ('49e374bd3.jpg', '6099f39dc.jpg'),\n",
    "    ('9b2ed195e.jpg', 'c30ecf35c.jpg'),\n",
    "    ('3a7f1857b.jpg', 'c37633c03.jpg'),\n",
    "    ('8c2a5c8f7.jpg', 'abedd15e2.jpg'),\n",
    "    ('b46dafae2.jpg', 'ce5f0cec3.jpg'),\n",
    "    ('5b1c96f09.jpg', 'e054a983d.jpg'),\n",
    "    ('3088a6a0d.jpg', '7f3181e44.jpg'),\n",
    "    ('dc0c6c0de.jpg', 'e4d9efbaa.jpg'),\n",
    "    ('488c35cf9.jpg', '845935465.jpg'),\n",
    "    ('3b168b16e.jpg', 'c6af2acac.jpg'),\n",
    "    ('05bc27672.jpg', 'dfefd11c4.jpg'),\n",
    "    ('048d14d3f.jpg', '7c8a469a4.jpg'),\n",
    "    ('a1a0111dd.jpg', 'b30a3e3b6.jpg'),\n",
    "    ('d8be02bfa.jpg', 'e45010a6a.jpg'),\n",
    "    ('caf49d870.jpg', 'ef5c1b08e.jpg'),\n",
    "    ('63c219c6f.jpg', 'b1096a78f.jpg'),\n",
    "    ('76096b17b.jpg', 'd490180a3.jpg'),\n",
    "    ('bd0e26062.jpg', 'e7d7c87e2.jpg'),\n",
    "    ('600a81590.jpg', 'eb5aec756.jpg'),\n",
    "    ('ad5a2ea44.jpg', 'e9fa75516.jpg'),\n",
    "    ('6afa917f2.jpg', '9fb53a74b.jpg'),\n",
    "    ('59931eb56.jpg', 'e7ced5b76.jpg'),\n",
    "    ('0bfe252d0.jpg', 'b4d0843ed.jpg'),\n",
    "    ('67fc6eeb8.jpg', 'c04aa9618.jpg'),\n",
    "    ('741a5c461.jpg', 'dae3c563a.jpg'),\n",
    "    ('78416c3d0.jpg', 'e34f68168.jpg'),\n",
    "    ('0d258e4ae.jpg', '72322fc23.jpg'),\n",
    "    ('0aafd7471.jpg', '461f83c57.jpg'),\n",
    "    ('38a1d7aab.jpg', '8866a93f6.jpg'),\n",
    "    ('7c5b834b7.jpg', 'dea514023.jpg'),\n",
    "    ('32854e5bf.jpg', '530227cd2.jpg'),\n",
    "    ('1b7d7eec6.jpg', 'f801dd10b.jpg'),\n",
    "    ('46ace1c15.jpg', '876e74fd6.jpg'),\n",
    "    ('578b43574.jpg', '9c5884cdd.jpg'),\n",
    "]\n",
    "\n",
    "d = DUPLICATES[1]"
   ]
  },
  {
   "cell_type": "code",
   "execution_count": 22,
   "metadata": {},
   "outputs": [],
   "source": [
    "black_list = []\n",
    "for d in DUPLICATES:\n",
    "    left = train[train['id']== d[0]].iloc[0]\n",
    "    right = train[train['id']== d[1]].iloc[0]\n",
    "    \n",
    "    if left.has_defect and not right.has_defect:\n",
    "        black_list.append(right.id)\n",
    "    elif not left.has_defect and right.has_defect:\n",
    "        black_list.append(left.id)\n"
   ]
  },
  {
   "cell_type": "code",
   "execution_count": 23,
   "metadata": {},
   "outputs": [
    {
     "data": {
      "text/plain": [
       "['4a80680e5.jpg', '3a7f1857b.jpg', 'd8be02bfa.jpg', '59931eb56.jpg']"
      ]
     },
     "execution_count": 23,
     "metadata": {},
     "output_type": "execute_result"
    }
   ],
   "source": [
    "black_list"
   ]
  },
  {
   "cell_type": "code",
   "execution_count": null,
   "metadata": {},
   "outputs": [],
   "source": []
  }
 ],
 "metadata": {
  "kernelspec": {
   "display_name": "Python 3",
   "language": "python",
   "name": "python3"
  },
  "language_info": {
   "codemirror_mode": {
    "name": "ipython",
    "version": 3
   },
   "file_extension": ".py",
   "mimetype": "text/x-python",
   "name": "python",
   "nbconvert_exporter": "python",
   "pygments_lexer": "ipython3",
   "version": "3.7.4"
  }
 },
 "nbformat": 4,
 "nbformat_minor": 2
}
