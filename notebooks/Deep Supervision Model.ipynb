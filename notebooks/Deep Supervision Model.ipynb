{
 "cells": [
  {
   "cell_type": "code",
   "execution_count": 2,
   "metadata": {},
   "outputs": [],
   "source": [
    "import pandas as pd\n",
    "from matplotlib import pyplot as plt\n",
    "\n",
    "%matplotlib inline"
   ]
  },
  {
   "cell_type": "code",
   "execution_count": 15,
   "metadata": {},
   "outputs": [],
   "source": [
    "results = pd.read_csv('../tloss/model-loss-PSPNet-144x912-seresnet50-batch16-SGD-lr0.0001-custom_dice_loss-classes[0134]-preload/training_history.csv')"
   ]
  },
  {
   "cell_type": "code",
   "execution_count": 16,
   "metadata": {},
   "outputs": [
    {
     "data": {
      "text/plain": [
       "Index(['epoch', 'custom_dice_loss', 'custom_dice_score', 'lazy_class_accuracy',\n",
       "       'lazy_class_loss', 'loss', 'score', 'val_custom_dice_loss',\n",
       "       'val_custom_dice_score', 'val_lazy_class_accuracy',\n",
       "       'val_lazy_class_loss', 'val_loss', 'val_score', 'dir'],\n",
       "      dtype='object')"
      ]
     },
     "execution_count": 16,
     "metadata": {},
     "output_type": "execute_result"
    }
   ],
   "source": [
    "results.columns"
   ]
  },
  {
   "cell_type": "code",
   "execution_count": 17,
   "metadata": {},
   "outputs": [
    {
     "data": {
      "text/plain": [
       "<matplotlib.axes._subplots.AxesSubplot at 0x122867fd0>"
      ]
     },
     "execution_count": 17,
     "metadata": {},
     "output_type": "execute_result"
    },
    {
     "data": {
      "image/png": "[encoded data removed]",
      "text/plain": [
       "<Figure size 432x288 with 1 Axes>"
      ]
     },
     "metadata": {
      "needs_background": "light"
     },
     "output_type": "display_data"
    }
   ],
   "source": [
    "results['custom_dice_score'].plot()\n"
   ]
  },
  {
   "cell_type": "code",
   "execution_count": 18,
   "metadata": {},
   "outputs": [
    {
     "data": {
      "text/plain": [
       "<matplotlib.collections.PathCollection at 0x122f32a90>"
      ]
     },
     "execution_count": 18,
     "metadata": {},
     "output_type": "execute_result"
    },
    {
     "data": {
      "image/png": "[encoded data removed]",
      "text/plain": [
       "<Figure size 432x288 with 1 Axes>"
      ]
     },
     "metadata": {
      "needs_background": "light"
     },
     "output_type": "display_data"
    }
   ],
   "source": [
    "plt.scatter(results['custom_dice_loss'], results['lazy_class_loss'])"
   ]
  },
  {
   "cell_type": "code",
   "execution_count": 19,
   "metadata": {},
   "outputs": [
    {
     "data": {
      "text/html": [
       "<div>\n",
       "<style scoped>\n",
       "    .dataframe tbody tr th:only-of-type {\n",
       "        vertical-align: middle;\n",
       "    }\n",
       "\n",
       "    .dataframe tbody tr th {\n",
       "        vertical-align: top;\n",
       "    }\n",
       "\n",
       "    .dataframe thead th {\n",
       "        text-align: right;\n",
       "    }\n",
       "</style>\n",
       "<table border=\"1\" class=\"dataframe\">\n",
       "  <thead>\n",
       "    <tr style=\"text-align: right;\">\n",
       "      <th></th>\n",
       "      <th>epoch</th>\n",
       "      <th>custom_dice_loss</th>\n",
       "      <th>custom_dice_score</th>\n",
       "      <th>lazy_class_accuracy</th>\n",
       "      <th>lazy_class_loss</th>\n",
       "      <th>loss</th>\n",
       "      <th>score</th>\n",
       "      <th>val_custom_dice_loss</th>\n",
       "      <th>val_custom_dice_score</th>\n",
       "      <th>val_lazy_class_accuracy</th>\n",
       "      <th>val_lazy_class_loss</th>\n",
       "      <th>val_loss</th>\n",
       "      <th>val_score</th>\n",
       "      <th>dir</th>\n",
       "    </tr>\n",
       "  </thead>\n",
       "  <tbody>\n",
       "    <tr>\n",
       "      <th>1</th>\n",
       "      <td>1</td>\n",
       "      <td>0.105859</td>\n",
       "      <td>0.894141</td>\n",
       "      <td>0.107513</td>\n",
       "      <td>0.234456</td>\n",
       "      <td>0.105859</td>\n",
       "      <td>0.915629</td>\n",
       "      <td>0.100732</td>\n",
       "      <td>0.899268</td>\n",
       "      <td>0.109456</td>\n",
       "      <td>0.229272</td>\n",
       "      <td>0.100732</td>\n",
       "      <td>0.917044</td>\n",
       "      <td>results/model-loss-PSPNet-144x912-seresnet50-b...</td>\n",
       "    </tr>\n",
       "    <tr>\n",
       "      <th>2</th>\n",
       "      <td>2</td>\n",
       "      <td>0.106578</td>\n",
       "      <td>0.893422</td>\n",
       "      <td>0.109186</td>\n",
       "      <td>0.232001</td>\n",
       "      <td>0.106578</td>\n",
       "      <td>0.916951</td>\n",
       "      <td>0.100608</td>\n",
       "      <td>0.899392</td>\n",
       "      <td>0.110347</td>\n",
       "      <td>0.231524</td>\n",
       "      <td>0.100608</td>\n",
       "      <td>0.917565</td>\n",
       "      <td>results/model-loss-PSPNet-144x912-seresnet50-b...</td>\n",
       "    </tr>\n",
       "    <tr>\n",
       "      <th>3</th>\n",
       "      <td>3</td>\n",
       "      <td>0.108784</td>\n",
       "      <td>0.891216</td>\n",
       "      <td>0.110724</td>\n",
       "      <td>0.239695</td>\n",
       "      <td>0.108784</td>\n",
       "      <td>0.917052</td>\n",
       "      <td>0.102438</td>\n",
       "      <td>0.897562</td>\n",
       "      <td>0.111561</td>\n",
       "      <td>0.237652</td>\n",
       "      <td>0.102438</td>\n",
       "      <td>0.917722</td>\n",
       "      <td>results/model-loss-PSPNet-144x912-seresnet50-b...</td>\n",
       "    </tr>\n",
       "    <tr>\n",
       "      <th>4</th>\n",
       "      <td>4</td>\n",
       "      <td>0.108899</td>\n",
       "      <td>0.891101</td>\n",
       "      <td>0.111777</td>\n",
       "      <td>0.250499</td>\n",
       "      <td>0.108899</td>\n",
       "      <td>0.916497</td>\n",
       "      <td>0.101977</td>\n",
       "      <td>0.898023</td>\n",
       "      <td>0.112209</td>\n",
       "      <td>0.237632</td>\n",
       "      <td>0.101977</td>\n",
       "      <td>0.917908</td>\n",
       "      <td>results/model-loss-PSPNet-144x912-seresnet50-b...</td>\n",
       "    </tr>\n",
       "    <tr>\n",
       "      <th>5</th>\n",
       "      <td>5</td>\n",
       "      <td>0.110422</td>\n",
       "      <td>0.889578</td>\n",
       "      <td>0.113045</td>\n",
       "      <td>0.247142</td>\n",
       "      <td>0.110422</td>\n",
       "      <td>0.917855</td>\n",
       "      <td>0.105384</td>\n",
       "      <td>0.894616</td>\n",
       "      <td>0.113585</td>\n",
       "      <td>0.248805</td>\n",
       "      <td>0.105384</td>\n",
       "      <td>0.917970</td>\n",
       "      <td>results/model-loss-PSPNet-144x912-seresnet50-b...</td>\n",
       "    </tr>\n",
       "  </tbody>\n",
       "</table>\n",
       "</div>"
      ],
      "text/plain": [
       "   epoch  custom_dice_loss  custom_dice_score  lazy_class_accuracy  \\\n",
       "1      1          0.105859           0.894141             0.107513   \n",
       "2      2          0.106578           0.893422             0.109186   \n",
       "3      3          0.108784           0.891216             0.110724   \n",
       "4      4          0.108899           0.891101             0.111777   \n",
       "5      5          0.110422           0.889578             0.113045   \n",
       "\n",
       "   lazy_class_loss      loss     score  val_custom_dice_loss  \\\n",
       "1         0.234456  0.105859  0.915629              0.100732   \n",
       "2         0.232001  0.106578  0.916951              0.100608   \n",
       "3         0.239695  0.108784  0.917052              0.102438   \n",
       "4         0.250499  0.108899  0.916497              0.101977   \n",
       "5         0.247142  0.110422  0.917855              0.105384   \n",
       "\n",
       "   val_custom_dice_score  val_lazy_class_accuracy  val_lazy_class_loss  \\\n",
       "1               0.899268                 0.109456             0.229272   \n",
       "2               0.899392                 0.110347             0.231524   \n",
       "3               0.897562                 0.111561             0.237652   \n",
       "4               0.898023                 0.112209             0.237632   \n",
       "5               0.894616                 0.113585             0.248805   \n",
       "\n",
       "   val_loss  val_score                                                dir  \n",
       "1  0.100732   0.917044  results/model-loss-PSPNet-144x912-seresnet50-b...  \n",
       "2  0.100608   0.917565  results/model-loss-PSPNet-144x912-seresnet50-b...  \n",
       "3  0.102438   0.917722  results/model-loss-PSPNet-144x912-seresnet50-b...  \n",
       "4  0.101977   0.917908  results/model-loss-PSPNet-144x912-seresnet50-b...  \n",
       "5  0.105384   0.917970  results/model-loss-PSPNet-144x912-seresnet50-b...  "
      ]
     },
     "execution_count": 19,
     "metadata": {},
     "output_type": "execute_result"
    }
   ],
   "source": [
    "results.tail(5)"
   ]
  },
  {
   "cell_type": "code",
   "execution_count": null,
   "metadata": {},
   "outputs": [],
   "source": []
  }
 ],
 "metadata": {
  "kernelspec": {
   "display_name": "Python 3",
   "language": "python",
   "name": "python3"
  },
  "language_info": {
   "codemirror_mode": {
    "name": "ipython",
    "version": 3
   },
   "file_extension": ".py",
   "mimetype": "text/x-python",
   "name": "python",
   "nbconvert_exporter": "python",
   "pygments_lexer": "ipython3",
   "version": "3.7.4"
  }
 },
 "nbformat": 4,
 "nbformat_minor": 2
}
